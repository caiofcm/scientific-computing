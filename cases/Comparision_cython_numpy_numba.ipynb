{
 "cells": [
  {
   "cell_type": "markdown",
   "metadata": {},
   "source": [
    "# Comparing Cython, Numpy and Numba for a PFR Distributed Model\n",
    "\n",
    "## The model\n",
    "\n",
    "Consider a simple PFR reactor as follows:\n",
    "\n",
    "![](pfr_scheme.png)\n",
    "\n",
    "The concentration inside the reactor can be described in the position $z$ and time $t$ by the partial differential equation:\n",
    "\n",
    "$$\\frac{\\partial C(t,z)}{\\partial t} + v_z \\frac{\\partial C(t,z)}{\\partial z} - D \\frac{\\partial^2 C(t,z)}{\\partial t^2} - r(t,z) = 0$$\n",
    "\n",
    "$$C(0,z) = C_{ini}(z)$$\n",
    "\n",
    "$$C(t,0) - \\frac{D}{v_z}\\frac{d C(t,z)}{dz}\\Big\\vert_{z=0} = C_f(t)$$\n",
    "\n",
    "$$\\frac{D}{v_z}\\frac{d C(t,z)}{dz}\\Big\\vert_{z=L} = 0$$\n",
    "\n",
    "An approach to solve this PDE is discretizing the $z$ domain and approximating the derivatives using finite differences. Doing so we obtain the final set of equation as an ordinary differential equation set in the form $\\frac{d \\mathbf{C}}{d t} = f(\\mathbf{C})$.\n",
    "\n",
    "$$\\frac{dC_1(t)}{dt} = \\frac{D}{h^2}(C_2 - 2C_1 + C_0) - \\frac{v_z}{2h}(C_2-C_0) + r_1$$\n",
    "\n",
    "$$\\frac{dC_i(t)}{dt} = \\frac{D}{h^2}(C_{i+1} - 2C_{i} + C_{i-1}) - \\frac{v_z}{2h}(C_{i+1}-C_{i-1}) + r_{i} \\text{ for } i=2,\\ldots, N-1 $$ \n",
    "\n",
    "$$\\frac{dC_N(t)}{dt} = \\frac{D}{h^2}(C_{N+1} - 2C_{N} + C_{N-1}) - \\frac{v_z}{2h}(C_{N+1}-C_{N-1}) + r_{N}$$\n",
    "\n",
    "with:\n",
    "\n",
    "$$C_0 = \\left( 1 + \\frac{D}{v_z h}\\right)^{-1}\\left(\\frac{D}{v_z h} C_1 + C_f \\right)$$\n",
    "\n",
    "$$C_{N+1}=C_N$$\n",
    "\n",
    "In the next, this problem is solved using python, cython, numpy and numba. Moreover, a performance comparison is provided for various values of the number of discretization points."
   ]
  },
  {
   "cell_type": "code",
   "execution_count": 1,
   "metadata": {},
   "outputs": [],
   "source": [
    "import numpy as np\n",
    "#import dasslcy\n",
    "from scipy.integrate import ode\n",
    "from functools import partial\n",
    "import perfplot\n",
    "import numba"
   ]
  },
  {
   "cell_type": "code",
   "execution_count": 2,
   "metadata": {},
   "outputs": [],
   "source": [
    "NPTS = 100\n",
    "%load_ext Cython"
   ]
  },
  {
   "cell_type": "code",
   "execution_count": 3,
   "metadata": {},
   "outputs": [],
   "source": [
    "def integrate_rk3(t0, ti, y, fun, f_args):\n",
    "    h = ti - t0\n",
    "    if f_args is not None:\n",
    "        k1 = h * fun(t0, y, f_args)\n",
    "        k2 = h * fun(t0 + h/2, y + k1/2, f_args)\n",
    "        k3 = h * fun(t0 + h, y - k1 + 2*k2, f_args)\n",
    "        ynew = y + 1/6*(k1 + 4.*k2 + k3)\n",
    "    else:\n",
    "        k1 = h * fun(t0, y)\n",
    "        k2 = h * fun(t0 + h/2, y + k1/2)\n",
    "        k3 = h * fun(t0 + h, y - k1 + 2*k2)\n",
    "        ynew = y + 1/6*(k1 + 4.*k2 + k)        \n",
    "    return ynew\n",
    "\n",
    "def multiples_rk(t0, ti, y, fun, f_args, Nintervals = 100):\n",
    "    tspan = np.linspace(t0, ti, Nintervals + 1)\n",
    "    for t in tspan:\n",
    "        ynew = integrate_rk3(t0, ti, y, fun, f_args)"
   ]
  },
  {
   "cell_type": "code",
   "execution_count": 4,
   "metadata": {},
   "outputs": [],
   "source": [
    "def dyn_solver(fun, tnext, y0, par = None):\n",
    "    ynew = multiples_rk(0.0, tnext, y0, fun, par, Nintervals=5000)\n",
    "    return ynew"
   ]
  },
  {
   "cell_type": "markdown",
   "metadata": {},
   "source": [
    "## Class for the model data"
   ]
  },
  {
   "cell_type": "code",
   "execution_count": 5,
   "metadata": {},
   "outputs": [],
   "source": [
    "class pfr():\n",
    "    def __init__(self, N = 20):\n",
    "        self.D = 1.0\n",
    "        self.vz = 1.0\n",
    "        self.k = 1.0\n",
    "        self.Cf = 1.0\n",
    "        self.z0 = 0.0\n",
    "        self.zf = 1.0\n",
    "        self.N = N\n",
    "        self.h = self.get_h()\n",
    "\n",
    "    def get_h(self):\n",
    "        return (self.zf - self.z0) / self.N\n",
    "\n",
    "def solver_setup_base(N):\n",
    "    par = pfr(N)\n",
    "    t0 = np.array([0.1])\n",
    "    y0 = np.zeros(par.N)\n",
    "    return [t0, y0, par]"
   ]
  },
  {
   "cell_type": "markdown",
   "metadata": {},
   "source": [
    "## Pure Python\n",
    "\n",
    "Setting dynamic model and solving"
   ]
  },
  {
   "cell_type": "code",
   "execution_count": 6,
   "metadata": {},
   "outputs": [],
   "source": [
    "def model_pfr(t, y, par):\n",
    "    rhs = np.empty_like(y)\n",
    "    N = par.N\n",
    "    D, vz, k, Cf, h = par.D, par.vz, par.k, par.Cf, par.h\n",
    "    #dCi = yp\n",
    "    Ci = y\n",
    "    aux1 = D / (vz * h)\n",
    "    C0 = 1.0 / (1.0 + aux1) * (aux1 * Ci[0] + Cf)\n",
    "    CNp1 = Ci[N - 1]\n",
    "    aux2 = D / h**2\n",
    "    aux3 = vz / (2 * h)\n",
    "    rhs[0] = aux2 * (Ci[1] - 2.0 * Ci[0] + C0) - \\\n",
    "        aux3 * (Ci[1] - C0) + k * Ci[0]\n",
    "    for i in np.arange(1, N - 1):\n",
    "        tt1 = aux2 * (Ci[i + 1] - 2.0 * Ci[i] + Ci[i - 1])\n",
    "        tt2 = -aux3 * (Ci[i + 1] - Ci[i - 1]) + k * Ci[i]\n",
    "        rhs[i] = tt1 + tt2\n",
    "    rhs[N - 1] = aux2 * (CNp1 - 2.0 * Ci[N - 1] + Ci[N - 2]) - \\\n",
    "        aux3 * (CNp1 - Ci[N - 2]) + k * Ci[N - 1]\n",
    "    return rhs"
   ]
  },
  {
   "cell_type": "code",
   "execution_count": 7,
   "metadata": {},
   "outputs": [
    {
     "name": "stdout",
     "output_type": "stream",
     "text": [
      "3.73 s ± 100 ms per loop (mean ± std. dev. of 2 runs, 1 loop each)\n"
     ]
    }
   ],
   "source": [
    "base_args = solver_setup_base(NPTS)\n",
    "o = %timeit -r 2 -n 1 -o dyn_solver(model_pfr, *base_args) "
   ]
  },
  {
   "cell_type": "markdown",
   "metadata": {},
   "source": [
    "## Numpy broadcasting"
   ]
  },
  {
   "cell_type": "code",
   "execution_count": 8,
   "metadata": {},
   "outputs": [],
   "source": [
    "def model_pfr_np(t, y, par):\n",
    "    rhs = np.empty_like(y)\n",
    "    N = par.N\n",
    "    D, vz, k, Cf, h = par.D, par.vz, par.k, par.Cf, par.h\n",
    "    # dCi = yp\n",
    "    Ci = y\n",
    "    aux1 = D / (vz * h)\n",
    "    C0 = 1.0 / (1.0 + aux1) * (aux1 * Ci[0] + Cf)\n",
    "    CNp1 = Ci[N - 1]\n",
    "    aux2 = D / h**2\n",
    "    aux3 = vz / (2 * h)\n",
    "    rhs[0] = aux2 * (Ci[1] - 2.0 * Ci[0] + C0) - \\\n",
    "        aux3 * (Ci[1] - C0) + k * Ci[0]\n",
    "    tt1 = aux2 * (Ci[2:] - 2.0 * Ci[1:-1] + Ci[0:-2])\n",
    "    tt2 = -aux3 * (Ci[2:] - Ci[0:-2]) + k * Ci[1:-1]\n",
    "    rhs[1:-1] = tt1 + tt2\n",
    "\n",
    "    rhs[N - 1] = aux2 * (CNp1 - 2.0 * Ci[N - 1] + Ci[N - 2]) - \\\n",
    "        aux3 * (CNp1 - Ci[N - 2]) + k * Ci[N - 1]\n",
    "    return rhs"
   ]
  },
  {
   "cell_type": "code",
   "execution_count": 9,
   "metadata": {},
   "outputs": [
    {
     "name": "stdout",
     "output_type": "stream",
     "text": [
      "350 ms ± 15.1 ms per loop (mean ± std. dev. of 10 runs, 1 loop each)\n"
     ]
    }
   ],
   "source": [
    "o = %timeit -r 10 -n 1 -o dyn_solver(model_pfr_np, *base_args)"
   ]
  },
  {
   "cell_type": "markdown",
   "metadata": {},
   "source": [
    "## Cython Naive implementation"
   ]
  },
  {
   "cell_type": "code",
   "execution_count": 10,
   "metadata": {},
   "outputs": [],
   "source": [
    "%%cython\n",
    "import numpy as np\n",
    "cimport numpy as np\n",
    "def model_pfr_cy(t, y, par):\n",
    "    rhs = np.empty_like(y)\n",
    "    N = par.N\n",
    "    D, vz, k, Cf, h = par.D, par.vz, par.k, par.Cf, par.h\n",
    "    # dCi = yp\n",
    "    Ci = y\n",
    "    aux1 = D / (vz * h)\n",
    "    C0 = 1.0 / (1.0 + aux1) * (aux1 * Ci[0] + Cf)\n",
    "    CNp1 = Ci[N - 1]\n",
    "    aux2 = D / h**2\n",
    "    aux3 = vz / (2 * h)\n",
    "    rhs[0] = aux2 * (Ci[1] - 2.0 * Ci[0] + C0) - \\\n",
    "        aux3 * (Ci[1] - C0) + k * Ci[0]\n",
    "    for i in np.arange(1, N - 1):\n",
    "        tt1 = aux2 * (Ci[i + 1] - 2.0 * Ci[i] + Ci[i - 1])\n",
    "        tt2 = -aux3 * (Ci[i + 1] - Ci[i - 1]) + k * Ci[i]\n",
    "        rhs[i] = tt1 + tt2\n",
    "    rhs[N - 1] = aux2 * (CNp1 - 2.0 * Ci[N - 1] + Ci[N - 2]) - \\\n",
    "        aux3 * (CNp1 - Ci[N - 2]) + k * Ci[N - 1]\n",
    "    return rhs"
   ]
  },
  {
   "cell_type": "code",
   "execution_count": 11,
   "metadata": {},
   "outputs": [
    {
     "name": "stdout",
     "output_type": "stream",
     "text": [
      "2.92 s ± 16.3 ms per loop (mean ± std. dev. of 2 runs, 1 loop each)\n"
     ]
    }
   ],
   "source": [
    "o = %timeit -r 2 -n 1 -o dyn_solver(model_pfr_cy, *base_args)"
   ]
  },
  {
   "cell_type": "markdown",
   "metadata": {},
   "source": [
    "## Cython Typed Implementation"
   ]
  },
  {
   "cell_type": "code",
   "execution_count": 12,
   "metadata": {
    "scrolled": true
   },
   "outputs": [],
   "source": [
    "%%cython\n",
    "import numpy as np\n",
    "cimport numpy as np\n",
    "cimport cython \n",
    "\n",
    "#cython: boundscheck=False\n",
    "#cython: wraparound=False\n",
    "\n",
    "cdef class Pfr_Cython:\n",
    "    cdef:\n",
    "        double D, vz, k, Cf, z0, zf, h\n",
    "        int N\n",
    "    def __init__(self, N = 20):\n",
    "        self.N = N\n",
    "        self.D = 1.0\n",
    "        self.vz = 1.0\n",
    "        self.k = 1.0\n",
    "        self.Cf = 1.0\n",
    "        self.z0 = 0.0\n",
    "        self.zf = 1.0\n",
    "        self.h = self.get_h()\n",
    "    cdef get_h(self):\n",
    "        return (self.zf - self.z0) / self.N\n",
    "    \n",
    "    @cython.boundscheck(False)  # Deactivate bounds checking\n",
    "    @cython.wraparound(False)   # Deactivate negative indexing.\n",
    "    @cython.nonecheck(False)\n",
    "    @cython.cdivision(True)    \n",
    "    cdef cythonized_base_model_calculations(self, double t, np.float64_t[:] y, np.float64_t[:] rhs,\n",
    "                int N, double D, double vz, double k, double Cf, double h):\n",
    "        cdef:\n",
    "            int i\n",
    "            double tt1, tt2\n",
    "        # cdef np.float64_t[:] dCi = yp\n",
    "        cdef np.float64_t[:] Ci = y\n",
    "        cdef double aux1 = D / (vz * h)\n",
    "        cdef double C0 = 1.0 / (1.0 + aux1) * (aux1 * Ci[0] + Cf)\n",
    "        cdef double CNp1 = Ci[N - 1]\n",
    "        cdef double aux2 = D / h**2\n",
    "        cdef double aux3 = vz / (2 * h)\n",
    "        rhs[0] = aux2 * (Ci[1] - 2.0 * Ci[0] + C0) - \\\n",
    "            aux3 * (Ci[1] - C0) + k * Ci[0]\n",
    "        for i in range(1, N - 1):\n",
    "            tt1 = aux2 * (Ci[i + 1] - 2.0 * Ci[i] + Ci[i - 1])\n",
    "            tt2 = -aux3 * (Ci[i + 1] - Ci[i - 1]) + k * Ci[i]\n",
    "            rhs[i] = tt1 + tt2\n",
    "        rhs[N - 1] = aux2 * (CNp1 - 2.0 * Ci[N - 1] + Ci[N - 2]) - \\\n",
    "            aux3 * (CNp1 - Ci[N - 2]) + k * Ci[N - 1]\n",
    "        pass\n",
    "    \n",
    "    @cython.boundscheck(False)  # Deactivate bounds checking\n",
    "    @cython.wraparound(False)   # Deactivate negative indexing. \n",
    "    @cython.nonecheck(False)\n",
    "    @cython.cdivision(True)\n",
    "    cpdef cython_model(self, double t, np.float64_t[:] y, np.float64_t[:] rhs):\n",
    "        self.cythonized_base_model_calculations(t, y, rhs, self.N, \n",
    "                                                self.D, self.vz, \n",
    "                                                self.k, self.Cf, self.h)\n",
    "        return rhs"
   ]
  },
  {
   "cell_type": "code",
   "execution_count": 13,
   "metadata": {},
   "outputs": [],
   "source": [
    "pr_Cy = Pfr_Cython(NPTS)\n",
    "cy_args = solver_setup_base(NPTS)\n",
    "rhs_for_cy = np.zeros_like(cy_args[1])\n",
    "cy_args[2] = rhs_for_cy"
   ]
  },
  {
   "cell_type": "code",
   "execution_count": 14,
   "metadata": {},
   "outputs": [
    {
     "name": "stdout",
     "output_type": "stream",
     "text": [
      "213 ms ± 3.38 ms per loop (mean ± std. dev. of 10 runs, 1 loop each)\n"
     ]
    }
   ],
   "source": [
    "o = %timeit -r 10 -n 1 -o dyn_solver(pr_Cy.cython_model, *cy_args)"
   ]
  },
  {
   "cell_type": "markdown",
   "metadata": {},
   "source": [
    "## Numba\n",
    "\n",
    "- Create a function closure to define numba scoped variables"
   ]
  },
  {
   "cell_type": "code",
   "execution_count": 15,
   "metadata": {},
   "outputs": [],
   "source": [
    "spec = [\n",
    "    ('N', numba.int32),\n",
    "    ('D', numba.float64),\n",
    "    ('vz', numba.float64),\n",
    "    ('k', numba.float64),\n",
    "    ('Cf', numba.float64),\n",
    "    ('z0', numba.float64),\n",
    "    ('zf', numba.float64),\n",
    "    ('h', numba.float64),\n",
    "]\n",
    "Numba_PFR = numba.jitclass(spec)(pfr)\n",
    "jitted_pfr_model = numba.jit(model_pfr, nopython=True)\n",
    "numba_pfr = Numba_PFR(NPTS)\n",
    "numba_args = solver_setup_base(NPTS)\n",
    "numba_args[2] = numba_pfr"
   ]
  },
  {
   "cell_type": "code",
   "execution_count": 16,
   "metadata": {},
   "outputs": [
    {
     "name": "stdout",
     "output_type": "stream",
     "text": [
      "207 ms ± 138 ms per loop (mean ± std. dev. of 10 runs, 1 loop each)\n"
     ]
    }
   ],
   "source": [
    "o = %timeit -r 10 -n 1 -o dyn_solver(jitted_pfr_model, *numba_args)"
   ]
  },
  {
   "cell_type": "markdown",
   "metadata": {},
   "source": [
    "## Performance for discretization point "
   ]
  },
  {
   "cell_type": "code",
   "execution_count": 17,
   "metadata": {},
   "outputs": [],
   "source": [
    "def setups_all(N):\n",
    "    # Numpy\n",
    "    base_args = solver_setup_base(N)\n",
    "    \n",
    "    # Cython\n",
    "    pr_Cy = Pfr_Cython(N)\n",
    "    cy_args = solver_setup_base(N)\n",
    "    rhs_for_cy = np.zeros_like(cy_args[1])\n",
    "    cy_args[2] = rhs_for_cy    \n",
    "    \n",
    "    # Numba\n",
    "    numba_pfr = Numba_PFR(N)\n",
    "    numba_args = solver_setup_base(N)\n",
    "    numba_args[2] = numba_pfr   \n",
    "    return base_args, (pr_Cy, cy_args), numba_args\n",
    "\n",
    "def run_py(opts_setup):\n",
    "#     base_args = solver_setup_base(N)\n",
    "    dyn_solver(model_pfr, *opts_setup[0])\n",
    "    return 0\n",
    "\n",
    "# def setup_np(N):\n",
    "#     return solver_setup_base(N)\n",
    "\n",
    "def run_np(opts_setup):\n",
    "    dyn_solver(model_pfr_np, *opts_setup[0])\n",
    "    return 0\n",
    "\n",
    "def run_cy_naive(opts_setup):\n",
    "    #base_args = solver_setup_base(N)\n",
    "    dyn_solver(model_pfr_cy, *opts_setup[0])\n",
    "    return 0\n",
    "\n",
    "def run_cy_typed(opts_setup):\n",
    "    #dyn_solver(pr_Cy.cython_model, *cy_args)\n",
    "    dyn_solver(opts_setup[1][0].cython_model, *opts_setup[1][1])\n",
    "    return 0\n",
    "\n",
    "def run_numba(opts_setup):\n",
    "    numba_args = opts_setup[2]\n",
    "    # solve_ivp(numba_model_fun, [0, numba_args[0]], numba_args[1], method='BDF')\n",
    "    dyn_solver(jitted_pfr_model, *numba_args)\n",
    "    return 0\n",
    "\n",
    "kernels = [run_np, run_cy_typed, run_numba]"
   ]
  },
  {
   "cell_type": "code",
   "execution_count": 18,
   "metadata": {},
   "outputs": [
    {
     "name": "stderr",
     "output_type": "stream",
     "text": [
      "  0%|          | 0/14 [00:00<?, ?it/s]\n",
      "  0%|          | 0/3 [00:00<?, ?it/s]\u001b[A\n",
      " 33%|███▎      | 1/3 [00:01<00:02,  1.23s/it]\u001b[A\n",
      " 67%|██████▋   | 2/3 [00:02<00:01,  1.12s/it]\u001b[A\n",
      "100%|██████████| 3/3 [00:03<00:00,  1.10s/it]\u001b[A\n",
      "  7%|▋         | 1/14 [00:03<00:48,  3.75s/it]\n",
      "  0%|          | 0/3 [00:00<?, ?it/s]\u001b[A\n",
      " 33%|███▎      | 1/3 [00:01<00:02,  1.26s/it]\u001b[A\n",
      " 67%|██████▋   | 2/3 [00:02<00:01,  1.15s/it]\u001b[A\n",
      "100%|██████████| 3/3 [00:03<00:00,  1.13s/it]\u001b[A\n",
      " 14%|█▍        | 2/14 [00:07<00:45,  3.78s/it]\n",
      "  0%|          | 0/3 [00:00<?, ?it/s]\u001b[A\n",
      " 33%|███▎      | 1/3 [00:01<00:02,  1.30s/it]\u001b[A\n",
      " 67%|██████▋   | 2/3 [00:02<00:01,  1.18s/it]\u001b[A\n",
      "100%|██████████| 3/3 [00:03<00:00,  1.17s/it]\u001b[A\n",
      " 21%|██▏       | 3/14 [00:11<00:42,  3.83s/it]\n",
      "  0%|          | 0/3 [00:00<?, ?it/s]\u001b[A\n",
      " 33%|███▎      | 1/3 [00:01<00:02,  1.05s/it]\u001b[A\n",
      " 67%|██████▋   | 2/3 [00:02<00:01,  1.03s/it]\u001b[A\n",
      "100%|██████████| 3/3 [00:03<00:00,  1.10s/it]\u001b[A\n",
      " 29%|██▊       | 4/14 [00:15<00:38,  3.83s/it]\n",
      "  0%|          | 0/3 [00:00<?, ?it/s]\u001b[A\n",
      " 33%|███▎      | 1/3 [00:01<00:02,  1.12s/it]\u001b[A\n",
      " 67%|██████▋   | 2/3 [00:02<00:01,  1.08s/it]\u001b[A\n",
      "100%|██████████| 3/3 [00:03<00:00,  1.09s/it]\u001b[A\n",
      " 36%|███▌      | 5/14 [00:19<00:34,  3.83s/it]\n",
      "  0%|          | 0/3 [00:00<?, ?it/s]\u001b[A\n",
      " 33%|███▎      | 1/3 [00:01<00:02,  1.13s/it]\u001b[A\n",
      " 67%|██████▋   | 2/3 [00:02<00:01,  1.14s/it]\u001b[A\n",
      "100%|██████████| 3/3 [00:03<00:00,  1.11s/it]\u001b[A\n",
      " 43%|████▎     | 6/14 [00:23<00:30,  3.84s/it]\n",
      "  0%|          | 0/3 [00:00<?, ?it/s]\u001b[A\n",
      " 33%|███▎      | 1/3 [00:01<00:02,  1.11s/it]\u001b[A\n",
      " 67%|██████▋   | 2/3 [00:02<00:01,  1.08s/it]\u001b[A\n",
      "100%|██████████| 3/3 [00:03<00:00,  1.09s/it]\u001b[A\n",
      " 50%|█████     | 7/14 [00:26<00:26,  3.83s/it]\n",
      "  0%|          | 0/3 [00:00<?, ?it/s]\u001b[A\n",
      " 33%|███▎      | 1/3 [00:01<00:02,  1.10s/it]\u001b[A\n",
      " 67%|██████▋   | 2/3 [00:02<00:01,  1.08s/it]\u001b[A\n",
      "100%|██████████| 3/3 [00:03<00:00,  1.09s/it]\u001b[A\n",
      " 57%|█████▋    | 8/14 [00:30<00:23,  3.83s/it]\n",
      "  0%|          | 0/3 [00:00<?, ?it/s]\u001b[A\n",
      " 33%|███▎      | 1/3 [00:01<00:02,  1.10s/it]\u001b[A\n",
      " 67%|██████▋   | 2/3 [00:02<00:01,  1.08s/it]\u001b[A\n",
      "100%|██████████| 3/3 [00:03<00:00,  1.09s/it]\u001b[A\n",
      " 64%|██████▍   | 9/14 [00:34<00:19,  3.83s/it]\n",
      "  0%|          | 0/3 [00:00<?, ?it/s]\u001b[A\n",
      " 33%|███▎      | 1/3 [00:01<00:02,  1.15s/it]\u001b[A\n",
      " 67%|██████▋   | 2/3 [00:02<00:01,  1.13s/it]\u001b[A\n",
      "100%|██████████| 3/3 [00:03<00:00,  1.13s/it]\u001b[A\n",
      " 71%|███████▏  | 10/14 [00:38<00:15,  3.85s/it]\n",
      "  0%|          | 0/3 [00:00<?, ?it/s]\u001b[A\n",
      " 33%|███▎      | 1/3 [00:01<00:02,  1.11s/it]\u001b[A\n",
      " 67%|██████▋   | 2/3 [00:02<00:01,  1.13s/it]\u001b[A\n",
      "100%|██████████| 3/3 [00:03<00:00,  1.16s/it]\u001b[A\n",
      " 79%|███████▊  | 11/14 [00:42<00:11,  3.86s/it]\n",
      "  0%|          | 0/3 [00:00<?, ?it/s]\u001b[A\n",
      " 33%|███▎      | 1/3 [00:01<00:02,  1.12s/it]\u001b[A\n",
      " 67%|██████▋   | 2/3 [00:02<00:01,  1.14s/it]\u001b[A\n",
      "100%|██████████| 3/3 [00:03<00:00,  1.17s/it]\u001b[A\n",
      " 86%|████████▌ | 12/14 [00:46<00:07,  3.88s/it]\n",
      "  0%|          | 0/3 [00:00<?, ?it/s]\u001b[A\n",
      " 33%|███▎      | 1/3 [00:01<00:02,  1.14s/it]\u001b[A\n",
      " 67%|██████▋   | 2/3 [00:02<00:01,  1.16s/it]\u001b[A\n",
      "100%|██████████| 3/3 [00:03<00:00,  1.19s/it]\u001b[A\n",
      " 93%|█████████▎| 13/14 [00:50<00:03,  3.90s/it]\n",
      "  0%|          | 0/3 [00:00<?, ?it/s]\u001b[A\n",
      " 33%|███▎      | 1/3 [00:01<00:02,  1.14s/it]\u001b[A\n",
      " 67%|██████▋   | 2/3 [00:02<00:01,  1.20s/it]\u001b[A\n",
      "100%|██████████| 3/3 [00:03<00:00,  1.14s/it]\u001b[A\n",
      "100%|██████████| 14/14 [00:54<00:00,  3.91s/it]\n"
     ]
    },
    {
     "data": {
      "image/png": "[encoded data removed]",
      "text/plain": [
       "<Figure size 432x288 with 1 Axes>"
      ]
     },
     "metadata": {},
     "output_type": "display_data"
    }
   ],
   "source": [
    "perfplot.show(\n",
    "    setup= setups_all,\n",
    "    kernels= kernels,\n",
    "    labels=['np', 'cy_typed', 'numba'],\n",
    "    n_range=[10*k for k in range(1, 60+10, 5)], #n_range=[2**k for k in range(1, 100 + 10, 10)],\n",
    "    xlabel='N'\n",
    "    )"
   ]
  }
 ],
 "metadata": {
  "hide_input": false,
  "kernelspec": {
   "display_name": "Python 3",
   "language": "python",
   "name": "python3"
  },
  "language_info": {
   "codemirror_mode": {
    "name": "ipython",
    "version": 3
   },
   "file_extension": ".py",
   "mimetype": "text/x-python",
   "name": "python",
   "nbconvert_exporter": "python",
   "pygments_lexer": "ipython3",
   "version": "3.6.5"
  },
  "latex_envs": {
   "LaTeX_envs_menu_present": true,
   "autocomplete": true,
   "bibliofile": "biblio.bib",
   "cite_by": "apalike",
   "current_citInitial": 1,
   "eqLabelWithNumbers": true,
   "eqNumInitial": 1,
   "hotkeys": {
    "equation": "Ctrl-E",
    "itemize": "Ctrl-I"
   },
   "labels_anchors": false,
   "latex_user_defs": false,
   "report_style_numbering": false,
   "user_envs_cfg": false
  },
  "toc": {
   "nav_menu": {
    "height": "191px",
    "width": "252px"
   },
   "number_sections": true,
   "sideBar": true,
   "skip_h1_title": false,
   "title_cell": "Table of Contents",
   "title_sidebar": "Contents",
   "toc_cell": false,
   "toc_position": {},
   "toc_section_display": "block",
   "toc_window_display": false
  },
  "varInspector": {
   "cols": {
    "lenName": 16,
    "lenType": 16,
    "lenVar": 40
   },
   "kernels_config": {
    "python": {
     "delete_cmd_postfix": "",
     "delete_cmd_prefix": "del ",
     "library": "var_list.py",
     "varRefreshCmd": "print(var_dic_list())"
    },
    "r": {
     "delete_cmd_postfix": ") ",
     "delete_cmd_prefix": "rm(",
     "library": "var_list.r",
     "varRefreshCmd": "cat(var_dic_list()) "
    }
   },
   "types_to_exclude": [
    "module",
    "function",
    "builtin_function_or_method",
    "instance",
    "_Feature"
   ],
   "window_display": false
  }
 },
 "nbformat": 4,
 "nbformat_minor": 2
}
